{
 "cells": [
  {
   "cell_type": "markdown",
   "id": "e8a7ba2b",
   "metadata": {
    "slideshow": {
     "slide_type": "slide"
    }
   },
   "source": [
    "<center><h1>The joys and pains of <br> reproducing research</h1></center>\n",
    "<center><h2>An experiment in bioimaging data analysis</h2></center>\n",
    "\n",
    "<br>\n",
    "<center><h3>Marianne Corvellec</h3></center>\n",
    "<center>\n",
    "    <img src=\"imgs/skimage_logo.png\" width=\"300\">&nbsp;&nbsp;\n",
    "    <img src=\"imgs/igdore_logo.png\" width=\"300\">\n",
    "</center>\n",
    "\n",
    "<center><h4>EuroSciPy 2024 — August 28, 2024 ― Szczecin, Poland\n",
    "    &nbsp;&nbsp; <img src=\"imgs/euroscipy_logo.png\" width=\"40\"></h4></center>"
   ]
  },
  {
   "cell_type": "markdown",
   "id": "f7f4ce47",
   "metadata": {
    "slideshow": {
     "slide_type": "slide"
    }
   },
   "source": [
    "# Outline\n",
    "\n",
    "## context & motivation\n",
    "## reproducibility & replicability\n",
    "## downloading (some) data\n",
    "## loading (non-standard) data into Python\n",
    "## provisioning (old) computing environments\n",
    "## processing (large) data from 3D bioimaging \n",
    "## using research software\n",
    "## comparing scientific results\n",
    "## open questions"
   ]
  },
  {
   "cell_type": "markdown",
   "id": "2999a686",
   "metadata": {
    "slideshow": {
     "slide_type": "slide"
    }
   },
   "source": [
    "<table>\n",
    "    <td width=\"300\"><h1>context</h1><br><img src=\"imgs/gallery_applications.png\"></td>\n",
    "<td><img src=\"imgs/paul_francois.png\" width=\"300\"></td>\n",
    "<td><img src=\"imgs/keller_lab.png\" width=\"400\"></td>\n",
    "</table>\n",
    "    \n",
    "<table>\n",
    "    <td width=\"300\"><img src=\"imgs/intern_ananya.png\"></td>\n",
    "    <td width=\"500\"><center>... bioimaging data analysis</center><br>\n",
    "        <ul>\n",
    "            <li>https://scikit-image.org > gallery</li>\n",
    "            <li>Prof. Paul François (Université de Montréal)</li>\n",
    "            <li>https://www.janelia.org/lab/keller-lab/software</li>\n",
    "            <li>https://www.outreachy.org</li>\n",
    "        </ul>\n",
    "    </td>\n",
    "</table>"
   ]
  },
  {
   "cell_type": "markdown",
   "id": "a16afe78",
   "metadata": {
    "slideshow": {
     "slide_type": "slide"
    }
   },
   "source": [
    "<table>\n",
    "    <td width=\"500\"><h1>motivation</h1>\n",
    "        <ul>\n",
    "            <li>original work: McDole <em>et al.</em> (2018) Cell [1]</li>\n",
    "            <li>live imaging of mouse embryonic development</li>\n",
    "            <li>spectacular images showing individual cells</li>\n",
    "            <li>3D + time</li>\n",
    "        </ul>\n",
    "<td width=\"400\"><img src=\"imgs/gastrulation.png\"></td>\n",
    "</table>\n",
    "\n",
    "* image analysis: cell segmentation, cell tracking, ...\n",
    "* one frame ~ 370 MB (KLB file format)\n",
    "* degree of computational reproducibility?\n",
    "\n",
    "[1] McDole K, Guignard L, Amat F, Berger A, Malandain G, Royer LA, Turaga SC,\n",
    "Branson K, Keller PJ (2018) \"*In Toto* Imaging and Reconstruction of\n",
    "Post-Implantation Mouse Development at the Single-Cell Level\" Cell,\n",
    "175(3):859-876.e33.\n",
    "DOI: [10.1016/j.cell.2018.09.031](http://doi.org/10.1016/j.cell.2018.09.031)"
   ]
  },
  {
   "cell_type": "markdown",
   "id": "7c39a83c",
   "metadata": {
    "slideshow": {
     "slide_type": "subslide"
    }
   },
   "source": [
    "## starting small\n",
    "\n",
    "* segmentation of cells/nuclei\n",
    "* single frame (embryo B at time point 184)\n",
    "* 3D grayscale image `im3d`\n",
    "* shape of entire frame `(847, 2048, 2190)`\n",
    "* `sample = im3d[400:500, :2000, :2150]`\n",
    "* size of sample ~ 145 MB in NPZ file format\n",
    "\n",
    "*Launch napari viewer...*"
   ]
  },
  {
   "cell_type": "markdown",
   "id": "5a8fc231",
   "metadata": {
    "slideshow": {
     "slide_type": "subslide"
    }
   },
   "source": [
    "## starting even smaller\n",
    "\n",
    "* slicing `im3d[400:450, 1000:1750, 400:900]`\n",
    "* working with local computers... and remote interns\n",
    "\n",
    "<table>\n",
    "    <td width=\"400\">\n",
    "        <ul>\n",
    "            <li>Architecture x86_64</li>\n",
    "            <li>Intel(R) Core(TM) i5-8250U CPU</li>\n",
    "            <li>8 CPUs<ul>\n",
    "                <li>1 socket</li>\n",
    "                <li>4 cores/socket</li>\n",
    "                <li>2 threads/core</li></ul>\n",
    "            </li>\n",
    "            <li>8 GB of RAM</li>\n",
    "        </ul>\n",
    "<td width=\"500\"><img src=\"imgs/comparison.png\"></td>\n",
    "</table>\n",
    "\n",
    "https://github.com/scikit-image/scikit-image/pull/7309"
   ]
  },
  {
   "cell_type": "markdown",
   "id": "1088298c",
   "metadata": {
    "slideshow": {
     "slide_type": "slide"
    }
   },
   "source": [
    "# reproducibility\n",
    "\n",
    "<span style=\"color:blue\">“... the calculation of quantitative scientific results by independent scientists using the original datasets and methods.”</span>\n",
    "\n",
    "<p style=\"text-align:right;\">Stodden, Leisch, and Peng (2014)</p>\n",
    "\n",
    "as cited in http://www.practicereproducibleresearch.org/core-chapters/2-assessment.html\n",
    "\n",
    "<br><br>\n",
    "\n",
    "* find and download the original data\n",
    "* find, install, and run the sofware used in the original research"
   ]
  },
  {
   "cell_type": "markdown",
   "id": "a2ce717e",
   "metadata": {
    "slideshow": {
     "slide_type": "subslide"
    }
   },
   "source": [
    "# replicability\n",
    "\n",
    "<span style=\"color:blue\">“... the practice of independently implementing scientific experiments to validate specific findings”</span>\n",
    "\n",
    "<p style=\"text-align:right;\"><em>ibid.</em></p>\n",
    "\n",
    "<br><br>\n",
    "\n",
    "* find and download the original data\n",
    "* try out other segmenters\n",
    "  - implemented in Python or others \n",
    "  - with (as much or as little) ML"
   ]
  },
  {
   "cell_type": "markdown",
   "id": "74a7a86e",
   "metadata": {
    "slideshow": {
     "slide_type": "slide"
    }
   },
   "source": [
    "# downloading (some) data\n",
    "\n",
    "* zebrafish data, processed images (movies), ...\n",
    "* Jun 29, 2023: https://idr.openmicroscopy.org/webclient/?show=project-502\n",
    "* Jul 1, 2023: https://idr.openmicroscopy.org/about/download.html\n",
    "* Jul 3, 2023: download a 2D image with Aspera Desktop client\n",
    "* Jul 19, 2023: download a 2D image with Aspera CLI client\n",
    "* Apr 23, 2024: scaling up?\n",
    "  - https://github.com/IDR/idr.openmicroscopy.org/pull/193#issue-2258303892\n",
    "* May 16, 2024: download a 3D image with FTP CLI client\n",
    "  - https://github.com/mkcor/repro-tgmm/tree/main/data#readme"
   ]
  },
  {
   "cell_type": "markdown",
   "id": "a0685d04",
   "metadata": {
    "slideshow": {
     "slide_type": "subslide"
    }
   },
   "source": [
    "# reading KLB data\n",
    "\n",
    "* Methods: `pyklb` (Python wrapper for the KLB file format)\n",
    "* Jul 5, 2023: email Burkhard Höckendorf, author of `pyklb` \n",
    "* Jul 19, 2023: `pyklb` *just works*(?!)\n",
    "* Jan 23, 2024: install now fails (following upgrade to Python 3.10)\n",
    "* Jan 25, 2024: Lars saved my life!\n",
    "\n",
    "```bash\n",
    "$ cat requirements/load.txt \n",
    "numpy==1.26.4\n",
    "scikit-build==0.18.0\n",
    "git+https://github.com/mkcor/pyklb.git@skbuild\n",
    "zarr==2.18.2\n",
    "```\n",
    "\n",
    "https://github.com/mkcor/repro-tgmm/tree/main/load#readme"
   ]
  },
  {
   "cell_type": "markdown",
   "id": "affad3de",
   "metadata": {
    "slideshow": {
     "slide_type": "slide"
    }
   },
   "source": [
    "# provisioning (old) computing environments\n",
    "\n",
    "* install Python 3.9 locally (Debian 12)\n",
    "* SPEC 0 https://scientific-python.org/specs/spec-0000/\n",
    "\n",
    "* use multiple environments and generate intermediate outputs\n",
    "* find a computer cluster to handle larger data\n",
    "\n",
    "  - Architecture x86_64\n",
    "  - Intel(R) Xeon(R) CPU E5-2650 v4\n",
    "  - 24 CPUs (1 socket, 12 cores/socket, 2 threads/core)\n",
    "  - 16 GB of RAM\n",
    "  - Linux Ubuntu 18.04, Python 3.6\n",
    "  - CMake 3.16.3, FTP ..."
   ]
  },
  {
   "cell_type": "markdown",
   "id": "b3b4e771",
   "metadata": {
    "slideshow": {
     "slide_type": "subslide"
    }
   },
   "source": [
    "# Heap Community Cluster\n",
    "\n",
    "* shared computing cluster at the [Recurse Center](https://www.recurse.com/) (RC)\n",
    "* sponsored by [Heap](https://www.heap.io/) (former RC partner company)\n",
    "* educational and experimental\n",
    "* three Linux bare-metal machines (Broome, Crosby, and Mercer)\n",
    "* Mercer and Crosby have GPUs\n",
    "* Broome has three times more storage capacity\n",
    "* Broome now runs Ubuntu 20.04 and Python 3.7–3.9\n",
    "\n",
    "\n",
    "https://www.recurse.com/blog/126-heap-sponsors-rc-community-cluster\n",
    "\n",
    "https://github.com/recursecenter/wiki/wiki/Heap-Community-Cluster"
   ]
  },
  {
   "cell_type": "markdown",
   "id": "d6050d2c",
   "metadata": {
    "slideshow": {
     "slide_type": "slide"
    }
   },
   "source": [
    "# processing (large) data from 3D bioimaging\n",
    "\n",
    "```bash\n",
    "$ du -h .\n",
    "480M\t./data/frame_184.zarr\n",
    "```\n",
    "\n",
    "https://github.com/mkcor/repro-tgmm/tree/main/proc#readme\n",
    "\n",
    "wrt gallery example [Segment 3D image sample of developing mouse embryo](https://output.circle-artifacts.com/output/job/72dee039-ae89-475c-b3ce-7e8f9e5e6189/artifacts/0/doc/build/html/auto_examples/applications/plot_3d_segmentation_embryo.html#sphx-glr-auto-examples-applications-plot-3d-segmentation-embryo-py)\n",
    "\n",
    "* shape `(100, 2000, 2150)`\n",
    "* parallelize function calls: e.g., `import skimage as ski`\n",
    "```py\n",
    "smooth = ski.util.apply_parallel(\n",
    "    ski.filters.gaussian,\n",
    "    binary_local,\n",
    "    chunks=(5, 50, 50),\n",
    "    extra_keywords={'sigma': 1.5},\n",
    "    dtype='float64'\n",
    ")\n",
    "```\n",
    "* free memory: e.g., `del smooth, thresholds`"
   ]
  },
  {
   "cell_type": "markdown",
   "id": "45ecf35d",
   "metadata": {
    "slideshow": {
     "slide_type": "slide"
    }
   },
   "source": [
    "# using research software\n",
    "\n",
    "* TGMM: tracking with Gaussian Mixture Models\n",
    "* open-source computational framework for the segmentation and tracking of cell nuclei\n",
    "* software developed at the Keller Lab\n",
    "* version 1: Amat *et al.* (2014) Nature Methods\n",
    "* version 2: https://bitbucket.org/fernandoamat/tgmm-paper\n",
    "  - build: https://github.com/mkcor/repro-tgmm/tree/main/tgmm#readme\n",
    "  - run:\n",
    "```bash\n",
    "$ ProcessStack_woGPU config.md <frame number>\n",
    "```\n",
    "computes a hierarchical segmentation, truncating the tree at `minTau`\n",
    "<br>\n",
    "outputs two files, a .bin file and a .txt file\n",
    "```bash\n",
    "$ ProcessStack_woGPU <.bin file> <tau> <minSuperVoxelSzPx>\n",
    "```\n",
    "outputs segmentation (labels) in a .klb file "
   ]
  },
  {
   "cell_type": "markdown",
   "id": "e4c8464a",
   "metadata": {
    "slideshow": {
     "slide_type": "slide"
    }
   },
   "source": [
    "# comparing scientific results\n",
    "\n",
    "https://github.com/mkcor/repro-tgmm/tree/main/view#readme\n",
    "\n",
    "*Launch napari viewer...*\n",
    "\n",
    "* TGMM segmentation looks cleaner\n",
    "* our segmentation catches nuclei with lower intensity\n",
    "* local (adaptive) thresholding seems key\n",
    "* TGMM segmentation results as published in [1]?\n",
    "  - [ground truth](https://github.com/mkcor/draft-notebooks/wiki/Mouse-Embryo-Dataset#look-up-segmented-data)\n",
    "  - https://github.com/mkcor/draft-notebooks/pull/6\n",
    "  - Jan 29, 2024: TARDIS-time vs embryo-time ...\n",
    "    https://github.com/leoguignard/TARDIS"
   ]
  },
  {
   "cell_type": "markdown",
   "id": "fdc8a149",
   "metadata": {
    "slideshow": {
     "slide_type": "slide"
    }
   },
   "source": [
    "# open questions\n",
    "\n",
    "* access to computing resources: https://onscienceandacademia.org/t/practical-research-as-independent-researcher/1610/3\n",
    "* dask newbie\n",
    "* napari newbie"
   ]
  }
 ],
 "metadata": {
  "celltoolbar": "Slideshow",
  "kernelspec": {
   "display_name": "Python 3 (ipykernel)",
   "language": "python",
   "name": "python3"
  },
  "language_info": {
   "codemirror_mode": {
    "name": "ipython",
    "version": 3
   },
   "file_extension": ".py",
   "mimetype": "text/x-python",
   "name": "python",
   "nbconvert_exporter": "python",
   "pygments_lexer": "ipython3",
   "version": "3.9.6"
  }
 },
 "nbformat": 4,
 "nbformat_minor": 5
}
