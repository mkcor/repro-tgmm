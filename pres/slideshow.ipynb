{
 "cells": [
  {
   "cell_type": "markdown",
   "id": "e8a7ba2b",
   "metadata": {
    "slideshow": {
     "slide_type": "slide"
    }
   },
   "source": [
    "<center><h1>The joys and pains of <br> reproducing research</h1></center>\n",
    "<center><h2>An experiment in bioimaging data analysis</h2></center>\n",
    "\n",
    "<br>\n",
    "<center><h3>Marianne Corvellec</h3></center>\n",
    "<center>\n",
    "    <img src=\"imgs/skimage_logo.png\" width=\"300\">&nbsp;&nbsp;\n",
    "    <img src=\"imgs/igdore_logo.png\" width=\"300\">\n",
    "</center>\n",
    "\n",
    "<center><h4>EuroSciPy 2024 — August 28, 2024 ― Szczecin, Poland\n",
    "    &nbsp;&nbsp; <img src=\"imgs/euroscipy_logo.png\" width=\"40\"></h4></center>"
   ]
  },
  {
   "cell_type": "markdown",
   "id": "f7f4ce47",
   "metadata": {
    "slideshow": {
     "slide_type": "slide"
    }
   },
   "source": [
    "# Outline\n",
    "\n",
    "## context & motivation\n",
    "## reproducibility & replicability\n",
    "## downloading (some) data\n",
    "## provisioning (old) computing environments\n",
    "## loading (non-standard) data into Python\n",
    "## processing (large) data from 3D bioimaging \n",
    "## running research software\n",
    "## comparing scientific results\n",
    "## open questions"
   ]
  },
  {
   "cell_type": "markdown",
   "id": "2999a686",
   "metadata": {
    "slideshow": {
     "slide_type": "slide"
    }
   },
   "source": [
    "<table>\n",
    "    <td width=\"300\"><h1>context</h1><br><img src=\"imgs/gallery_applications.png\"></td>\n",
    "<td><img src=\"imgs/paul_francois.png\" width=\"300\"></td>\n",
    "<td><img src=\"imgs/janelia_mouse.png\" width=\"300\"></td>\n",
    "</table>\n",
    "    \n",
    "<table>\n",
    "    <td width=\"300\"><img src=\"imgs/intern_ananya.png\"></td>\n",
    "    <td width=\"500\"><center>... bioimaging data analysis</center><br>\n",
    "        <ul>\n",
    "            <li>https://scikit-image.org > gallery</li>\n",
    "            <li>Prof. Paul François (Université de Montréal)</li>\n",
    "            <li>https://www.janelia.org/janelia-mouse-atlas</li>\n",
    "            <li>https://www.outreachy.org</li>\n",
    "        </ul>\n",
    "    </td>\n",
    "</table>\n",
    "\n",
    "https://recherche.umontreal.ca/english/our-researchers/professors-directory/researcher/is/in35548/<br>\n",
    "<br>\n"
   ]
  },
  {
   "cell_type": "markdown",
   "id": "a16afe78",
   "metadata": {
    "slideshow": {
     "slide_type": "slide"
    }
   },
   "source": [
    "<table>\n",
    "    <td width=\"500\"><h1>motivation</h1>\n",
    "        <ul>\n",
    "            <li>original work: McDole <em>et al.</em> (2018) Cell [1]</li>\n",
    "            <li>live imaging of mouse embryonic development</li>\n",
    "            <li>spectacular images showing individual cells</li>\n",
    "            <li>3D + time</li>\n",
    "        </ul>\n",
    "<td width=\"400\"><img src=\"imgs/gastrulation.png\"></td>\n",
    "</table>\n",
    "\n",
    "* image analysis: cell segmentation, cell tracking, ...\n",
    "* one frame ~ 370 MB (KLB file format)\n",
    "* degree of computational reproducibility?\n",
    "\n",
    "[1] McDole K, Guignard L, Amat F, Berger A, Malandain G, Royer LA, Turaga SC,\n",
    "Branson K, Keller PJ (2018) \"*In Toto* Imaging and Reconstruction of\n",
    "Post-Implantation Mouse Development at the Single-Cell Level\" Cell,\n",
    "175(3):859-876.e33.\n",
    "DOI: [10.1016/j.cell.2018.09.031](http://doi.org/10.1016/j.cell.2018.09.031)"
   ]
  },
  {
   "cell_type": "markdown",
   "id": "7c39a83c",
   "metadata": {
    "slideshow": {
     "slide_type": "subslide"
    }
   },
   "source": [
    "## Starting small\n",
    "\n",
    "* single frame: embryo B at time point 184\n",
    "* segmentation of cells/nuclei\n",
    "* shape of entire frame: `(847, 2048, 2190)`\n",
    "* shape of sample: `(100, 2000, 2150)`\n",
    "* 3D grayscale image\n",
    "* 145 MB in NPZ file format\n",
    "\n",
    "*Launch napari viewer...*"
   ]
  },
  {
   "cell_type": "markdown",
   "id": "1088298c",
   "metadata": {
    "slideshow": {
     "slide_type": "slide"
    }
   },
   "source": [
    "# reproducibility"
   ]
  },
  {
   "cell_type": "markdown",
   "id": "a2ce717e",
   "metadata": {
    "slideshow": {
     "slide_type": "slide"
    }
   },
   "source": [
    "# replicability\n",
    "\n",
    "* segmenter with (as much or as little) ML"
   ]
  },
  {
   "cell_type": "markdown",
   "id": "b3b4e771",
   "metadata": {
    "slideshow": {
     "slide_type": "slide"
    }
   },
   "source": [
    "# Heap Community Cluster\n",
    "\n",
    "* shared computing cluster at the [Recurse Center](https://www.recurse.com/) (RC)\n",
    "* sponsored by [Heap](https://www.heap.io/) (former RC partner company)\n",
    "* educational and experimental\n",
    "* three Linux bare-metal machines (Broome, Crosby, and Mercer)\n",
    "* Mercer and Crosby have GPUs\n",
    "* Broome has three times more storage capacity\n",
    "* Broome runs Ubuntu 20.04\n",
    "\n",
    "\n",
    "https://www.recurse.com/blog/126-heap-sponsors-rc-community-cluster\n",
    "\n",
    "https://github.com/recursecenter/wiki/wiki/Heap-Community-Cluster"
   ]
  },
  {
   "cell_type": "markdown",
   "id": "fdc8a149",
   "metadata": {
    "slideshow": {
     "slide_type": "slide"
    }
   },
   "source": [
    "# open questions\n",
    "\n",
    "* access to computing resources: https://onscienceandacademia.org/t/practical-research-as-independent-researcher/1610/3\n",
    "* dask newbie\n",
    "* napari newbie"
   ]
  }
 ],
 "metadata": {
  "celltoolbar": "Slideshow",
  "kernelspec": {
   "display_name": "Python 3 (ipykernel)",
   "language": "python",
   "name": "python3"
  },
  "language_info": {
   "codemirror_mode": {
    "name": "ipython",
    "version": 3
   },
   "file_extension": ".py",
   "mimetype": "text/x-python",
   "name": "python",
   "nbconvert_exporter": "python",
   "pygments_lexer": "ipython3",
   "version": "3.9.6"
  }
 },
 "nbformat": 4,
 "nbformat_minor": 5
}
